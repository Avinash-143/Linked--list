{
  "nbformat": 4,
  "nbformat_minor": 0,
  "metadata": {
    "colab": {
      "provenance": []
    },
    "kernelspec": {
      "name": "python3",
      "display_name": "Python 3"
    },
    "language_info": {
      "name": "python"
    }
  },
  "cells": [
    {
      "cell_type": "code",
      "execution_count": null,
      "metadata": {
        "id": "oYOPzNf6I478"
      },
      "outputs": [],
      "source": [
        "class Node:\n",
        "    def __init__(self,data=None,next=None):\n",
        "        self.data=data\n",
        "        self.next=None\n",
        "class Linked:\n",
        "    def __init__(self):\n",
        "        self.head=None\n",
        "    def insert(self,data):\n",
        "        new_node=Node(data)\n",
        "        if self.head is None:\n",
        "            self.head=new_node\n",
        "            return\n",
        "        last_node=self.head\n",
        "        while last_node.next:\n",
        "            last_node=last_node.next\n",
        "        last_node.next=new_node\n",
        "    def remove(self):\n",
        "        if self.head is None:\n",
        "            print('no data')\n",
        "        else:\n",
        "            self.head=self.head.next\n",
        "\n",
        "ll=Linked()\n",
        "ll.insert(30)\n",
        "ll.insert(20)\n",
        "ll.insert(10)\n",
        "ll.remove()"
      ]
    }
  ]
}