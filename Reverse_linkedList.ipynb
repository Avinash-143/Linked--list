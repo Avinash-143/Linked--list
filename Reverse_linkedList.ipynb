{
  "nbformat": 4,
  "nbformat_minor": 0,
  "metadata": {
    "colab": {
      "provenance": []
    },
    "kernelspec": {
      "name": "python3",
      "display_name": "Python 3"
    },
    "language_info": {
      "name": "python"
    }
  },
  "cells": [
    {
      "cell_type": "code",
      "execution_count": 1,
      "metadata": {
        "id": "UA-kVVlMtzcA"
      },
      "outputs": [],
      "source": [
        "class ListNode:\n",
        "    def __init__(self, val=0, next=None):\n",
        "        self.val = val\n",
        "        self.next = next\n",
        "\n",
        "def reverse_linked_list(head):\n",
        "    prev = None\n",
        "    current = head\n",
        "    while current is not None:\n",
        "        next_node = current.next\n",
        "        current.next = prev\n",
        "        prev = current\n",
        "        current = next_node\n",
        "    head = prev\n",
        "    return head\n",
        "\n",
        "# Create a linked list\n",
        "node1 = ListNode(1)\n",
        "node2 = ListNode(2)\n",
        "node3 = ListNode(3)\n",
        "node4 = ListNode(4)\n",
        "node1.next = node2\n",
        "node2.next = node3\n",
        "node3.next=node4\n",
        "head = node1\n",
        "\n",
        "# Call the function to reverse the linked list\n",
        "reversed_head = reverse_linked_list(head)"
      ]
    },
    {
      "cell_type": "code",
      "source": [
        "reverse_linked_list(head)"
      ],
      "metadata": {
        "colab": {
          "base_uri": "https://localhost:8080/"
        },
        "id": "5ewQ5QOyt9kJ",
        "outputId": "48a9e58b-ab4e-43ce-ca3a-7906e229bae4"
      },
      "execution_count": 3,
      "outputs": [
        {
          "output_type": "execute_result",
          "data": {
            "text/plain": [
              "<__main__.ListNode at 0x7af49821f940>"
            ]
          },
          "metadata": {},
          "execution_count": 3
        }
      ]
    }
  ]
}